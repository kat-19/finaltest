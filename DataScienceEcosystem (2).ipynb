{
  "metadata": {
    "kernelspec": {
      "name": "python",
      "display_name": "Python (Pyodide)",
      "language": "python"
    },
    "language_info": {
      "codemirror_mode": {
        "name": "python",
        "version": 3
      },
      "file_extension": ".py",
      "mimetype": "text/x-python",
      "name": "python",
      "nbconvert_exporter": "python",
      "pygments_lexer": "ipython3",
      "version": "3.8"
    }
  },
  "nbformat_minor": 4,
  "nbformat": 4,
  "cells": [
    {
      "cell_type": "markdown",
      "source": "# Data Science Tools and Ecosystem",
      "metadata": {}
    },
    {
      "cell_type": "markdown",
      "source": "## En este cuaderno de prueba, se resumen las herramientas y ecosistemas de ciencia de datos. ",
      "metadata": {}
    },
    {
      "cell_type": "markdown",
      "source": "# Algunas de las bibliotecas mas utilizadas por cientificos de datos, son las siguientes: \n1. Pandas\n2. NumPy\n3. Seaborn",
      "metadata": {}
    },
    {
      "cell_type": "markdown",
      "source": "# Herramientas de Ciencias de Datos:\n\n| Jupyter Notebook |\n| RStudio          |\n| Apache Spark     |\n",
      "metadata": {}
    },
    {
      "cell_type": "markdown",
      "source": "### A continuación, se presentan algunos ejemplos de evaluación de expresiones aritméticas en Python\n\n- Suma: `3 + 2 = 5`\n- Resta: `7 - 4 = 3`\n- Multiplicación: `6 * 3 = 18`\n- División: `8 / 2 = 4`\n- Exponenciación: `2 ** 3 = 8`",
      "metadata": {}
    },
    {
      "cell_type": "code",
      "source": "# Esta es una expresión aritmética simple para multiplicar y luego sumar enteros\nresultado = (3 * 4) + 5\nresultado",
      "metadata": {
        "trusted": true
      },
      "outputs": [
        {
          "execution_count": 8,
          "output_type": "execute_result",
          "data": {
            "text/plain": "17"
          },
          "metadata": {}
        }
      ],
      "execution_count": 8
    },
    {
      "cell_type": "code",
      "source": "# Esto convertirá 200 minutos a horas dividiendo por 60\nhoras = 200 / 60\nhoras",
      "metadata": {
        "trusted": true
      },
      "outputs": [
        {
          "execution_count": 9,
          "output_type": "execute_result",
          "data": {
            "text/plain": "3.3333333333333335"
          },
          "metadata": {}
        }
      ],
      "execution_count": 9
    },
    {
      "cell_type": "markdown",
      "source": "**Objetivos:**\n\n- Listar lenguajes populares para Ciencia de Datos\n- Describir bibliotecas comunes utilizadas en Ciencia de Datos\n- Explicar conceptos básicos de aprendizaje automático\n- Mostrar ejemplos de visualización de datos",
      "metadata": {}
    },
    {
      "cell_type": "markdown",
      "source": "## AUTOR\n\nKatherine M.",
      "metadata": {}
    },
    {
      "cell_type": "code",
      "source": "",
      "metadata": {
        "trusted": true
      },
      "outputs": [],
      "execution_count": null
    }
  ]
}